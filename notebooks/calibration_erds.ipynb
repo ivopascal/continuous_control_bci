{
 "cells": [
  {
   "cell_type": "code",
   "execution_count": 1,
   "id": "3bf333ed-84eb-47a5-9cbc-115ff1aa5ff8",
   "metadata": {},
   "outputs": [],
   "source": [
    "%matplotlib qt\n",
    "\n",
    "import mne\n",
    "import os\n",
    "import numpy as np\n",
    "import pathlib\n",
    "import sys\n",
    "SCRIPT_DIR = pathlib.Path.cwd()\n",
    "sys.path.append(os.path.dirname(SCRIPT_DIR))\n",
    "from continuous_control_bci.util import channel_names\n",
    "import matplotlib.pyplot as plt\n",
    "\n",
    "mne.set_log_level('warning')\n"
   ]
  },
  {
   "cell_type": "code",
   "execution_count": null,
   "id": "4a7ae890-be24-4134-af77-9728c955e1ee",
   "metadata": {},
   "outputs": [],
   "source": []
  },
  {
   "cell_type": "code",
   "execution_count": 13,
   "id": "126e73ce-b325-4fce-b0cd-9f835f0ade65",
   "metadata": {},
   "outputs": [],
   "source": [
    "from matplotlib.colors import TwoSlopeNorm\n",
    "\n",
    "import mne\n",
    "from mne.datasets import eegbci\n",
    "from mne.io import concatenate_raws, read_raw_edf\n",
    "from mne.stats import permutation_cluster_1samp_test as pcluster_test\n",
    "from mne.time_frequency import tfr_multitaper\n",
    "\n",
    "\n",
    "def plot_tfr(epochs, baseline=(-2, -1), tmin=-2, tmax=3.75, event_ids=dict(left=-1, rest=0, right=1)):\n",
    "    freqs = np.arange(10, 30)  # frequencies from 2-35Hz\n",
    "    vmin, vmax = -1, 1  # set min and max ERDS values in plot\n",
    "    cnorm = TwoSlopeNorm(vmin=vmin, vcenter=0, vmax=vmax)  # min, center & max ERDS\n",
    "    \n",
    "    kwargs = dict(\n",
    "        n_permutations=100, step_down_p=0.05, seed=1, buffer_size=None, out_type=\"mask\"\n",
    "    )  # for cluster test\n",
    "\n",
    "    \n",
    "    tfr = tfr_multitaper(\n",
    "        epochs,\n",
    "        freqs=freqs,\n",
    "        n_cycles=freqs,\n",
    "        use_fft=True,\n",
    "        return_itc=False,\n",
    "        average=False,\n",
    "        decim=2,\n",
    "    )\n",
    "    tfr.crop(tmin, tmax)\n",
    "    if baseline is not None:\n",
    "        tfr.apply_baseline(baseline, mode=\"percent\")\n",
    "    \n",
    "    for event in event_ids:\n",
    "        # select desired epochs for visualization\n",
    "        tfr_ev = tfr[event]\n",
    "        fig, axes = plt.subplots(\n",
    "            1, 3, figsize=(12, 4), gridspec_kw={\"width_ratios\": [10, 10, 1]}\n",
    "        )\n",
    "        for ch, ax in enumerate(axes[:-1]):  # for each channel\n",
    "            if baseline is not None:\n",
    "                # positive clusters\n",
    "                _, c1, p1, _ = pcluster_test(tfr_ev.data[:, ch], tail=1, **kwargs)\n",
    "                # negative clusters\n",
    "                _, c2, p2, _ = pcluster_test(tfr_ev.data[:, ch], tail=-1, **kwargs)\n",
    "        \n",
    "                # note that we keep clusters with p <= 0.05 from the combined clusters\n",
    "                # of two independent tests; in this example, we do not correct for\n",
    "                # these two comparisons\n",
    "                c = np.stack(c1 + c2, axis=2)  # combined clusters\n",
    "                p = np.concatenate((p1, p2))  # combined p-values\n",
    "                mask = c[..., p <= 0.01].any(axis=-1)\n",
    "        \n",
    "                # plot TFR (ERDS map with masking)\n",
    "                tfr_ev.average().plot(\n",
    "                    [ch],\n",
    "                    cmap=\"RdBu_r\",\n",
    "                    cnorm=cnorm,\n",
    "                    axes=ax,\n",
    "                    colorbar=False,\n",
    "                    show=False,\n",
    "                    mask=mask,\n",
    "                    mask_style=\"mask\",\n",
    "                )\n",
    "            else:\n",
    "                tfr_ev.average().plot(\n",
    "                    [ch],\n",
    "                    cmap=\"RdBu_r\",\n",
    "                    axes=ax,\n",
    "                    colorbar=False,\n",
    "                )\n",
    "    \n",
    "            ax.set_title(epochs.ch_names[ch], fontsize=10)\n",
    "            ax.axvline(0, linewidth=1, color=\"black\", linestyle=\":\")  # event\n",
    "            if ch != 0:\n",
    "                ax.set_ylabel(\"\")\n",
    "                ax.set_yticklabels(\"\")\n",
    "        fig.colorbar(axes[0].images[-1], cax=axes[-1]).ax.set_yscale(\"linear\")\n",
    "        fig.suptitle(f\"ERDS ({event})\")\n",
    "        plt.show()\n"
   ]
  },
  {
   "cell_type": "code",
   "execution_count": 3,
   "id": "4ae4e17d-296a-48aa-8311-2ce2612d4bf0",
   "metadata": {},
   "outputs": [],
   "source": [
    "raw_calibration = mne.io.read_raw_gdf(\"../data/pilot_1/calibration/horse_reighns_pilot_driving.gdf\",\n",
    "                             preload=True)\n",
    "original_channel_names = [f\"Channel {i + 1}\" for i in range(32)] + [f\"EX {i + 1}\" for i in range(8)]\n",
    "renaming = {original: new for original, new in zip(original_channel_names, channel_names)}"
   ]
  },
  {
   "cell_type": "code",
   "execution_count": 4,
   "id": "9298d6cc-f03c-484a-b5d9-a509e7fdc13a",
   "metadata": {},
   "outputs": [],
   "source": [
    "raw_calibration = raw_calibration.set_eeg_reference()\n",
    "raw_calibration = raw_calibration.set_channel_types(dict.fromkeys([\"EX 1\", \"EX 2\", \"EX 3\", \"EX 4\"], \"emg\"))\n",
    "raw_calibration = raw_calibration.set_channel_types(dict.fromkeys([\"EX 5\", \"EX 6\", \"EX 7\", \"EX 8\"], \"eog\"))\n",
    "raw_calibration = raw_calibration.rename_channels(renaming)\n",
    "raw_calibration = raw_calibration.set_montage(\"standard_1020\", on_missing='raise')\n",
    "raw_calibration = raw_calibration.set_eeg_reference()\n"
   ]
  },
  {
   "cell_type": "code",
   "execution_count": 5,
   "id": "dbc2bffa-082c-494d-b2cc-ef1dcf68d1af",
   "metadata": {},
   "outputs": [],
   "source": [
    "raw_calibration_erds = raw_calibration.filter(l_freq=1, h_freq=30)"
   ]
  },
  {
   "cell_type": "code",
   "execution_count": 6,
   "id": "f73fa7c3-e8c3-4912-ab45-78ff601121ec",
   "metadata": {},
   "outputs": [
    {
     "data": {
      "text/html": [
       "<table class=\"table table-hover table-striped table-sm table-responsive small\">\n",
       "    <tr>\n",
       "        <th>Method</th>\n",
       "        <td>fastica</td>\n",
       "    </tr>\n",
       "    <tr>\n",
       "        <th>Fit parameters</th>\n",
       "        <td>algorithm=parallel<br />fun=logcosh<br />fun_args=None<br />max_iter=1000<br /></td>\n",
       "    </tr>\n",
       "    <tr>\n",
       "        <th>Fit</th>\n",
       "        <td>103 iterations on raw data (882656 samples)</td>\n",
       "    </tr>\n",
       "    \n",
       "    <tr>\n",
       "        <th>ICA components</th>\n",
       "        <td>31</td>\n",
       "    </tr>\n",
       "    <tr>\n",
       "        <th>Available PCA components</th>\n",
       "        <td>32</td>\n",
       "    </tr>\n",
       "    <tr>\n",
       "        <th>Channel types</th>\n",
       "        <td>eeg</td>\n",
       "    </tr>\n",
       "    <tr>\n",
       "        <th>ICA components marked for exclusion</th>\n",
       "        <td>&mdash;</td>\n",
       "    </tr>\n",
       "    \n",
       "</table>"
      ],
      "text/plain": [
       "<ICA | raw data decomposition, method: fastica (fit in 103 iterations on 882656 samples), 31 ICA components (32 PCA components available), channel types: eeg, no sources marked for exclusion>"
      ]
     },
     "execution_count": 6,
     "metadata": {},
     "output_type": "execute_result"
    }
   ],
   "source": [
    "from mne.preprocessing import ICA\n",
    "ica = ICA(random_state=42)\n",
    "ica.fit(raw_calibration_erds)"
   ]
  },
  {
   "cell_type": "code",
   "execution_count": 7,
   "id": "51d5f454-f3cc-4794-a9fa-5f3a01411535",
   "metadata": {},
   "outputs": [
    {
     "data": {
      "text/plain": [
       "([0, 1, 5],\n",
       " [array([-2.77768677e-01,  8.32506353e-01,  7.09073498e-02, -1.22120009e-01,\n",
       "          1.39722493e-01, -6.55119519e-02, -3.13742982e-02, -1.96705291e-02,\n",
       "          7.05875921e-02,  7.95592112e-02,  7.70281786e-02,  6.43609716e-02,\n",
       "          3.42519875e-03,  1.51242693e-02, -1.00778669e-01, -6.39984870e-02,\n",
       "         -5.67863057e-02, -7.03212598e-02, -4.65570199e-04, -5.10025869e-02,\n",
       "          1.51025091e-02, -1.90135370e-02,  1.74033394e-03,  1.08726265e-03,\n",
       "         -3.10547238e-02,  2.92334561e-02, -4.96390076e-02,  5.19706855e-02,\n",
       "         -5.26087978e-02,  6.02748299e-04, -5.07442773e-02]),\n",
       "  array([ 0.12363429, -0.79791148,  0.1217339 , -0.07881652, -0.09470928,\n",
       "         -0.28075331,  0.17330713, -0.08798991, -0.03821129, -0.02986716,\n",
       "         -0.01210837,  0.01978525, -0.02933685, -0.01309335,  0.0114333 ,\n",
       "         -0.13132274, -0.01218212, -0.1762796 ,  0.02790253,  0.04005649,\n",
       "          0.00805683,  0.02066189,  0.02200921,  0.01540115, -0.04172575,\n",
       "          0.03097781,  0.04753077,  0.06159195,  0.02098584, -0.02477118,\n",
       "          0.03958454]),\n",
       "  array([-9.82069987e-01,  4.74320902e-02, -7.34323168e-03, -6.04969194e-02,\n",
       "         -1.37196414e-01, -5.37079243e-02, -3.67866172e-02, -3.16260082e-02,\n",
       "         -1.15351602e-04,  4.95169266e-02,  2.86890962e-02, -4.12934989e-03,\n",
       "         -3.93642740e-03, -2.15258373e-03,  9.38103429e-03,  2.40661730e-03,\n",
       "          1.24968587e-02,  7.77171167e-03,  6.75032834e-03,  7.72639174e-03,\n",
       "          4.63666411e-03,  7.16487837e-03,  2.00420429e-02,  1.74177526e-02,\n",
       "         -6.25943745e-03,  1.85059092e-02, -2.70658596e-02,  2.29313232e-02,\n",
       "         -3.34317445e-02, -5.26925037e-03, -4.26189515e-02]),\n",
       "  array([ 8.79384865e-01,  1.02899457e-01,  6.86549478e-02, -4.69131875e-02,\n",
       "          1.63759485e-01, -7.97187880e-02,  6.82034630e-02, -8.39498189e-03,\n",
       "          2.12616049e-02, -7.29501224e-03,  9.30352955e-03,  2.81753998e-02,\n",
       "         -2.69946724e-03, -7.71634951e-03, -5.60777556e-02, -8.63318947e-02,\n",
       "         -5.36231882e-02, -7.85261214e-02,  1.67636639e-05, -2.62445238e-02,\n",
       "          5.96395409e-03, -8.15576846e-03, -3.90416012e-02, -1.53823518e-02,\n",
       "         -3.42868424e-02,  2.82403180e-02,  2.19331896e-02,  8.67122778e-03,\n",
       "          2.49557665e-02,  1.03209027e-03,  3.38127120e-02])])"
      ]
     },
     "execution_count": 7,
     "metadata": {},
     "output_type": "execute_result"
    }
   ],
   "source": [
    "ica.find_bads_eog(raw_calibration_erds)"
   ]
  },
  {
   "cell_type": "code",
   "execution_count": 8,
   "id": "8b19874d-e62c-441a-9ec2-7192645defd1",
   "metadata": {},
   "outputs": [],
   "source": [
    "# ica.plot_components()\n",
    "ica.exclude = [0, 1, 5, 2, 6, 4, 10, 11, 14, 19, 20, 22, 23]"
   ]
  },
  {
   "cell_type": "code",
   "execution_count": 9,
   "id": "312566f9-5364-4c71-88b6-f992cf6fc289",
   "metadata": {},
   "outputs": [
    {
     "data": {
      "text/plain": [
       "[0, 1, 5, 2, 6, 4, 10, 11, 14, 19, 20, 22, 23]"
      ]
     },
     "execution_count": 9,
     "metadata": {},
     "output_type": "execute_result"
    }
   ],
   "source": [
    "ica.exclude"
   ]
  },
  {
   "cell_type": "code",
   "execution_count": 10,
   "id": "e0f7cdd0-3514-4803-88cb-63560a9759ce",
   "metadata": {},
   "outputs": [
    {
     "data": {
      "text/html": [
       "<details open>\n",
       "    <summary><strong>General</strong></summary>\n",
       "    <table class=\"table table-hover table-striped table-sm table-responsive small\">\n",
       "        <tr>\n",
       "            <th>Measurement date</th>\n",
       "            \n",
       "            <td>Unknown</td>\n",
       "            \n",
       "        </tr>\n",
       "        <tr>\n",
       "            <th>Experimenter</th>\n",
       "            \n",
       "            <td>Unknown</td>\n",
       "            \n",
       "        </tr>\n",
       "        <tr>\n",
       "            <th>Participant</th>\n",
       "            \n",
       "            \n",
       "            <td>0x00000000</td>\n",
       "            \n",
       "            \n",
       "        </tr>\n",
       "    </table>\n",
       "    </details>\n",
       "    <details open>\n",
       "        <summary><strong>Channels</strong></summary>\n",
       "        <table class=\"table table-hover table-striped table-sm table-responsive small\">\n",
       "            <tr>\n",
       "                <th>Digitized points</th>\n",
       "                \n",
       "                <td>35 points</td>\n",
       "                \n",
       "            </tr>\n",
       "            <tr>\n",
       "                <th>Good channels</th>\n",
       "                <td>32 EEG, 4 EMG, 4 EOG</td>\n",
       "            </tr>\n",
       "            <tr>\n",
       "                <th>Bad channels</th>\n",
       "                <td>None</td>\n",
       "            </tr>\n",
       "            <tr>\n",
       "                <th>EOG channels</th>\n",
       "                <td>LHEOG, RHEOG, UVEOG, LVEOG</td>\n",
       "            </tr>\n",
       "            <tr>\n",
       "                <th>ECG channels</th>\n",
       "                <td>Not available</td>\n",
       "            </tr>\n",
       "        </table>\n",
       "        </details>\n",
       "        <details open>\n",
       "            <summary><strong>Data</strong></summary>\n",
       "            <table class=\"table table-hover table-striped table-sm table-responsive small\">\n",
       "                \n",
       "                <tr>\n",
       "                    <th>Sampling frequency</th>\n",
       "                    <td>2048.00 Hz</td>\n",
       "                </tr>\n",
       "                \n",
       "                \n",
       "                <tr>\n",
       "                    <th>Highpass</th>\n",
       "                    <td>1.00 Hz</td>\n",
       "                </tr>\n",
       "                \n",
       "                \n",
       "                <tr>\n",
       "                    <th>Lowpass</th>\n",
       "                    <td>30.00 Hz</td>\n",
       "                </tr>\n",
       "                \n",
       "                \n",
       "                \n",
       "                <tr>\n",
       "                    <th>Filenames</th>\n",
       "                    <td>horse_reighns_pilot_driving.gdf</td>\n",
       "                </tr>\n",
       "                \n",
       "                \n",
       "                <tr>\n",
       "                    <th>Duration</th>\n",
       "                    <td>00:07:11 (HH:MM:SS)</td>\n",
       "                </tr>\n",
       "                \n",
       "            </table>\n",
       "            </details>"
      ],
      "text/plain": [
       "<RawGDF | horse_reighns_pilot_driving.gdf, 40 x 882656 (431.0 s), ~269.4 MB, data loaded>"
      ]
     },
     "execution_count": 10,
     "metadata": {},
     "output_type": "execute_result"
    }
   ],
   "source": [
    "ica.apply(raw_calibration_erds)\n",
    "# raw_calibration_erds = mne.preprocessing.compute_current_source_density(raw_calibration_erds)"
   ]
  },
  {
   "cell_type": "code",
   "execution_count": 11,
   "id": "479f06f4-49ba-40ee-9f58-40d72d40a881",
   "metadata": {},
   "outputs": [],
   "source": [
    "LEFT_HAND_EVENT = \"769\"\n",
    "RIGHT_HAND_EVENT = \"770\"\n",
    "END_OF_TRIAL_EVENT = \"800\"  # Used for rests\n",
    "\n",
    "calibration_events, _ = mne.events_from_annotations(raw_calibration_erds, event_id={LEFT_HAND_EVENT: 0,\n",
    "                                                           RIGHT_HAND_EVENT: 1})\n",
    "# Now we'd expect the movement 1 + 1.25 = 2.25 seconds in. The exact timing may be learned\n",
    "# It should stay until 6 seconds in. The first and last second should both be \"empty\"\n",
    "# These would be the optimal \"during movement\" timings. For visualisation, you might also consider\n",
    "# preparation or rebound effects.\n",
    "tmin = -3\n",
    "tmax = 1.25 + 3.75\n",
    "\n",
    "event_ids = dict(left=0, right=1)\n",
    "\n",
    "calibration_epochs = mne.Epochs(\n",
    "    raw_calibration_erds,\n",
    "    calibration_events,\n",
    "    event_ids,\n",
    "    tmin - 0.5,\n",
    "    tmax + 0.5,\n",
    "    baseline=None,\n",
    "    picks=['C3', 'C4'],\n",
    "    preload=True,\n",
    ")"
   ]
  },
  {
   "cell_type": "code",
   "execution_count": 14,
   "id": "25002f64-ad69-4a8e-a9df-a2c743ea9ee6",
   "metadata": {},
   "outputs": [
    {
     "name": "stderr",
     "output_type": "stream",
     "text": [
      "/Users/ivopascal/.local/share/virtualenvs/continuous_control_bci-_i6LbcKu/lib/python3.11/site-packages/tqdm/auto.py:21: TqdmWarning: IProgress not found. Please update jupyter and ipywidgets. See https://ipywidgets.readthedocs.io/en/stable/user_install.html\n",
      "  from .autonotebook import tqdm as notebook_tqdm\n"
     ]
    }
   ],
   "source": [
    "plot_tfr(calibration_epochs, baseline=(-3, 0), tmin=tmin, tmax=tmax, event_ids=event_ids)\n",
    "plot_tfr(calibration_epochs, baseline=None, tmin=tmin, tmax=tmax, event_ids=event_ids)"
   ]
  },
  {
   "cell_type": "code",
   "execution_count": null,
   "id": "a2539795-e2c7-481d-8ac5-6a65e2a1980c",
   "metadata": {},
   "outputs": [],
   "source": []
  }
 ],
 "metadata": {
  "kernelspec": {
   "display_name": "Python 3 (ipykernel)",
   "language": "python",
   "name": "python3"
  },
  "language_info": {
   "codemirror_mode": {
    "name": "ipython",
    "version": 3
   },
   "file_extension": ".py",
   "mimetype": "text/x-python",
   "name": "python",
   "nbconvert_exporter": "python",
   "pygments_lexer": "ipython3",
   "version": "3.11.4"
  }
 },
 "nbformat": 4,
 "nbformat_minor": 5
}
