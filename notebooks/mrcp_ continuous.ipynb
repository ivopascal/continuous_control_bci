{
 "cells": [
  {
   "cell_type": "code",
   "execution_count": 1,
   "id": "c76e6195-9b85-4463-82cd-04b899aa963d",
   "metadata": {},
   "outputs": [],
   "source": [
    "%matplotlib qt\n",
    "# Set up and load data\n",
    "import pyxdf\n",
    "fname = \"../data/pilot_1/runs/full_run.xdf\"\n",
    "streams, header = pyxdf.load_xdf(fname)\n",
    "prediciton_stream = streams[0][\"time_series\"].T\n",
    "\n",
    "eeg_streams = streams[1]['time_series'].T\n"
   ]
  },
  {
   "cell_type": "code",
   "execution_count": 2,
   "id": "ad9277fc-d02b-461a-b46e-abb4bef22309",
   "metadata": {},
   "outputs": [],
   "source": [
    "# Prepare for MNE\n",
    "import mne\n",
    "import os\n",
    "import pathlib\n",
    "import sys\n",
    "import numpy as np\n",
    "SCRIPT_DIR = pathlib.Path.cwd()\n",
    "sys.path.append(os.path.dirname(SCRIPT_DIR))\n",
    "from continuous_control_bci.util import channel_names\n",
    "import matplotlib.pyplot as plt\n",
    "mne.set_log_level('warning') # noqa\n"
   ]
  },
  {
   "cell_type": "code",
   "execution_count": 3,
   "id": "dcc83286-3202-4adf-8887-b7ff0d7687af",
   "metadata": {},
   "outputs": [
    {
     "name": "stderr",
     "output_type": "stream",
     "text": [
      "/var/folders/lm/ht2dkcld0tn4b4c0hqznvyfr0000gn/T/ipykernel_56839/174538854.py:26: RuntimeWarning: The unit for channel(s) AF3, AF4, C3, C4, CP1, CP2, CP5, CP6, Cz, F3, F4, F7, F8, FC1, FC2, FC5, FC6, Fp1, Fp2, Fz, LHEOG, LVEOG, Left-extension, Left-flexion, O1, O2, Oz, P3, P4, P7, P8, PO3, PO4, Pz, RHEOG, Right-extension, Right-flexion, T7, T8, UVEOG has changed from NA to V.\n",
      "  raw = raw.set_channel_types(channel_type_mapping)\n"
     ]
    },
    {
     "data": {
      "text/html": [
       "<details open>\n",
       "    <summary><strong>General</strong></summary>\n",
       "    <table class=\"table table-hover table-striped table-sm table-responsive small\">\n",
       "        <tr>\n",
       "            <th>Measurement date</th>\n",
       "            \n",
       "            <td>Unknown</td>\n",
       "            \n",
       "        </tr>\n",
       "        <tr>\n",
       "            <th>Experimenter</th>\n",
       "            \n",
       "            <td>Unknown</td>\n",
       "            \n",
       "        </tr>\n",
       "        <tr>\n",
       "            <th>Participant</th>\n",
       "            \n",
       "            <td>Unknown</td>\n",
       "            \n",
       "        </tr>\n",
       "    </table>\n",
       "    </details>\n",
       "    <details open>\n",
       "        <summary><strong>Channels</strong></summary>\n",
       "        <table class=\"table table-hover table-striped table-sm table-responsive small\">\n",
       "            <tr>\n",
       "                <th>Digitized points</th>\n",
       "                \n",
       "                <td>35 points</td>\n",
       "                \n",
       "            </tr>\n",
       "            <tr>\n",
       "                <th>Good channels</th>\n",
       "                <td>32 EEG, 4 EMG, 4 EOG</td>\n",
       "            </tr>\n",
       "            <tr>\n",
       "                <th>Bad channels</th>\n",
       "                <td>None</td>\n",
       "            </tr>\n",
       "            <tr>\n",
       "                <th>EOG channels</th>\n",
       "                <td>LHEOG, RHEOG, UVEOG, LVEOG</td>\n",
       "            </tr>\n",
       "            <tr>\n",
       "                <th>ECG channels</th>\n",
       "                <td>Not available</td>\n",
       "            </tr>\n",
       "        </table>\n",
       "        </details>\n",
       "        <details open>\n",
       "            <summary><strong>Data</strong></summary>\n",
       "            <table class=\"table table-hover table-striped table-sm table-responsive small\">\n",
       "                \n",
       "                <tr>\n",
       "                    <th>Sampling frequency</th>\n",
       "                    <td>2048.00 Hz</td>\n",
       "                </tr>\n",
       "                \n",
       "                \n",
       "                <tr>\n",
       "                    <th>Highpass</th>\n",
       "                    <td>0.00 Hz</td>\n",
       "                </tr>\n",
       "                \n",
       "                \n",
       "                <tr>\n",
       "                    <th>Lowpass</th>\n",
       "                    <td>5.00 Hz</td>\n",
       "                </tr>\n",
       "                \n",
       "                \n",
       "                \n",
       "                \n",
       "                <tr>\n",
       "                    <th>Duration</th>\n",
       "                    <td>00:12:27 (HH:MM:SS)</td>\n",
       "                </tr>\n",
       "                \n",
       "            </table>\n",
       "            </details>"
      ],
      "text/plain": [
       "<RawArray | 40 x 1529828 (747.0 s), ~466.9 MB, data loaded>"
      ]
     },
     "execution_count": 3,
     "metadata": {},
     "output_type": "execute_result"
    }
   ],
   "source": [
    "eeg_mapping = {name: type for name, type in zip(channel_names[:-8], [\"eeg\"] * len(channel_names[:-8]))}\n",
    "emg_mapping = {name: type for name, type in zip(channel_names[-8:-4], [\"emg\"] * 4)}\n",
    "eog_mapping = {name: type for name, type in zip(channel_names[-4:], [\"eog\"] * 4)}\n",
    "\n",
    "\n",
    "\n",
    "channel_type_mapping = {\n",
    "    **eeg_mapping,\n",
    "    **emg_mapping,\n",
    "    **eog_mapping,\n",
    "}\n",
    "\n",
    "wrong_channel_type_mapping = {\n",
    "    name: type for name, type in zip(channel_names, [\"eeg\"] * len(channel_names))\n",
    "}\n",
    "\n",
    "\n",
    "# The problem is that the EEG is rereferences originally with EMG and EOG. This is silly, but convenient.\n",
    "# We need a way to deal with this. The easy hack for now is to rereference it in the same way\n",
    "# Though the correct way is to rereference EEG with EEG and EMG with EMG. Becomes a bit silly that EMG might not work because T7 is bad\n",
    "\n",
    "raw = mne.io.RawArray(eeg_streams[1:41, :] / 10e5, info=mne.create_info(channel_names, sfreq=2048))\n",
    "\n",
    "# raw = raw.set_channel_types(wrong_channel_type_mapping)\n",
    "# raw = raw.set_eeg_reference()\n",
    "raw = raw.set_channel_types(channel_type_mapping)\n",
    "raw = raw.set_montage(\"biosemi32\", on_missing='raise')\n",
    "raw = raw.set_eeg_reference()\n",
    "# raw = apply_causal_filters(raw, l_eeg=2)\n",
    "raw = raw.filter(l_freq=0, h_freq=5, picks='eeg')\n",
    "raw"
   ]
  },
  {
   "cell_type": "code",
   "execution_count": 4,
   "id": "91750bd4-b2d5-4b8e-8343-1af8fce19234",
   "metadata": {},
   "outputs": [],
   "source": [
    "# ica = mne.preprocessing.ICA(random_state=42)\n",
    "# ica.fit(raw, picks=['eeg'])\n",
    "# ica.exclude = ['ICA000', 'ICA001', 'ICA003', 'ICA008', 'ICA009', 'ICA011', 'ICA016', 'ICA021', 'ICA029']\n",
    "# raw = ica.apply(raw)"
   ]
  },
  {
   "cell_type": "code",
   "execution_count": 5,
   "id": "adea8d58-4aba-407c-b66b-0cd109c5e5fd",
   "metadata": {},
   "outputs": [
    {
     "name": "stdout",
     "output_type": "stream",
     "text": [
      "(3733,)\n",
      "(3733,)\n"
     ]
    }
   ],
   "source": [
    "# Load events\n",
    "\n",
    "prediction_timestamps = streams[0]['time_stamps']\n",
    "prediction_values = streams[0]['time_series']\n",
    "\n",
    "print(prediction_timestamps.shape)\n",
    "print(prediction_values[:, 0].shape)\n",
    "events = np.stack([(prediction_timestamps - streams[1]['time_stamps'][0])*2048, np.zeros(prediction_timestamps.shape), prediction_values[:, 0]]).T"
   ]
  },
  {
   "cell_type": "code",
   "execution_count": 6,
   "id": "ec7d0be5-30f9-4308-a660-f12014b64911",
   "metadata": {},
   "outputs": [],
   "source": [
    "import pickle\n",
    "with open('../data/pilot_1/emg_model.pkl', 'rb') as f:\n",
    "    emg_model = pickle.load(f)\n",
    "\n"
   ]
  },
  {
   "cell_type": "code",
   "execution_count": 7,
   "id": "2e8d3bd1-17df-4837-98fc-ca972fc57393",
   "metadata": {},
   "outputs": [],
   "source": [
    "raw_emg = raw.copy().pick(['emg'])"
   ]
  },
  {
   "cell_type": "code",
   "execution_count": 8,
   "id": "2d0498e6-c273-4c0d-b1e2-88efaa4d7b8f",
   "metadata": {},
   "outputs": [
    {
     "data": {
      "text/html": [
       "<details open>\n",
       "    <summary><strong>General</strong></summary>\n",
       "    <table class=\"table table-hover table-striped table-sm table-responsive small\">\n",
       "        <tr>\n",
       "            <th>Measurement date</th>\n",
       "            \n",
       "            <td>Unknown</td>\n",
       "            \n",
       "        </tr>\n",
       "        <tr>\n",
       "            <th>Experimenter</th>\n",
       "            \n",
       "            <td>Unknown</td>\n",
       "            \n",
       "        </tr>\n",
       "        <tr>\n",
       "            <th>Participant</th>\n",
       "            \n",
       "            <td>Unknown</td>\n",
       "            \n",
       "        </tr>\n",
       "    </table>\n",
       "    </details>\n",
       "    <details open>\n",
       "        <summary><strong>Channels</strong></summary>\n",
       "        <table class=\"table table-hover table-striped table-sm table-responsive small\">\n",
       "            <tr>\n",
       "                <th>Digitized points</th>\n",
       "                \n",
       "                <td>35 points</td>\n",
       "                \n",
       "            </tr>\n",
       "            <tr>\n",
       "                <th>Good channels</th>\n",
       "                <td>4 EMG</td>\n",
       "            </tr>\n",
       "            <tr>\n",
       "                <th>Bad channels</th>\n",
       "                <td>None</td>\n",
       "            </tr>\n",
       "            <tr>\n",
       "                <th>EOG channels</th>\n",
       "                <td>Not available</td>\n",
       "            </tr>\n",
       "            <tr>\n",
       "                <th>ECG channels</th>\n",
       "                <td>Not available</td>\n",
       "            </tr>\n",
       "        </table>\n",
       "        </details>\n",
       "        <details open>\n",
       "            <summary><strong>Data</strong></summary>\n",
       "            <table class=\"table table-hover table-striped table-sm table-responsive small\">\n",
       "                \n",
       "                <tr>\n",
       "                    <th>Sampling frequency</th>\n",
       "                    <td>2048.00 Hz</td>\n",
       "                </tr>\n",
       "                \n",
       "                \n",
       "                <tr>\n",
       "                    <th>Highpass</th>\n",
       "                    <td>0.00 Hz</td>\n",
       "                </tr>\n",
       "                \n",
       "                \n",
       "                <tr>\n",
       "                    <th>Lowpass</th>\n",
       "                    <td>5.00 Hz</td>\n",
       "                </tr>\n",
       "                \n",
       "                \n",
       "                \n",
       "                \n",
       "                <tr>\n",
       "                    <th>Duration</th>\n",
       "                    <td>00:12:27 (HH:MM:SS)</td>\n",
       "                </tr>\n",
       "                \n",
       "            </table>\n",
       "            </details>"
      ],
      "text/plain": [
       "<RawArray | 4 x 1529828 (747.0 s), ~46.7 MB, data loaded>"
      ]
     },
     "execution_count": 8,
     "metadata": {},
     "output_type": "execute_result"
    }
   ],
   "source": [
    "raw_emg"
   ]
  },
  {
   "cell_type": "code",
   "execution_count": 9,
   "id": "4f0ac77e-4bfb-4a98-922d-0a77b2eb4301",
   "metadata": {},
   "outputs": [],
   "source": [
    "import scipy\n",
    "filters = [\n",
    "    mne.filter.create_filter(raw_emg.get_data(), l_freq=30, h_freq=500, method='iir',\n",
    "                             phase='forward', sfreq=raw.info['sfreq']),\n",
    "    mne.filter.create_filter(raw_emg.get_data(), l_freq=51, h_freq=49, method='iir',\n",
    "                             phase='forward', sfreq=raw.info['sfreq']),\n",
    "]\n",
    "\n",
    "raw_data = scipy.signal.sosfilt(filters[0]['sos'],  raw_emg.get_data())\n",
    "raw_data = scipy.signal.sosfilt(filters[1]['sos'],  raw_data)\n",
    "raw_emg = mne.io.RawArray(raw_data, raw_emg.info)"
   ]
  },
  {
   "cell_type": "code",
   "execution_count": 10,
   "id": "63c8c50c-2c75-4728-b13d-483f88c20af5",
   "metadata": {},
   "outputs": [
    {
     "data": {
      "text/html": [
       "<details open>\n",
       "    <summary><strong>General</strong></summary>\n",
       "    <table class=\"table table-hover table-striped table-sm table-responsive small\">\n",
       "        <tr>\n",
       "            <th>Measurement date</th>\n",
       "            \n",
       "            <td>Unknown</td>\n",
       "            \n",
       "        </tr>\n",
       "        <tr>\n",
       "            <th>Experimenter</th>\n",
       "            \n",
       "            <td>Unknown</td>\n",
       "            \n",
       "        </tr>\n",
       "        <tr>\n",
       "            <th>Participant</th>\n",
       "            \n",
       "            <td>Unknown</td>\n",
       "            \n",
       "        </tr>\n",
       "    </table>\n",
       "    </details>\n",
       "    <details open>\n",
       "        <summary><strong>Channels</strong></summary>\n",
       "        <table class=\"table table-hover table-striped table-sm table-responsive small\">\n",
       "            <tr>\n",
       "                <th>Digitized points</th>\n",
       "                \n",
       "                <td>35 points</td>\n",
       "                \n",
       "            </tr>\n",
       "            <tr>\n",
       "                <th>Good channels</th>\n",
       "                <td>4 EMG</td>\n",
       "            </tr>\n",
       "            <tr>\n",
       "                <th>Bad channels</th>\n",
       "                <td>None</td>\n",
       "            </tr>\n",
       "            <tr>\n",
       "                <th>EOG channels</th>\n",
       "                <td>Not available</td>\n",
       "            </tr>\n",
       "            <tr>\n",
       "                <th>ECG channels</th>\n",
       "                <td>Not available</td>\n",
       "            </tr>\n",
       "        </table>\n",
       "        </details>\n",
       "        <details open>\n",
       "            <summary><strong>Data</strong></summary>\n",
       "            <table class=\"table table-hover table-striped table-sm table-responsive small\">\n",
       "                \n",
       "                <tr>\n",
       "                    <th>Sampling frequency</th>\n",
       "                    <td>2048.00 Hz</td>\n",
       "                </tr>\n",
       "                \n",
       "                \n",
       "                <tr>\n",
       "                    <th>Highpass</th>\n",
       "                    <td>0.00 Hz</td>\n",
       "                </tr>\n",
       "                \n",
       "                \n",
       "                <tr>\n",
       "                    <th>Lowpass</th>\n",
       "                    <td>5.00 Hz</td>\n",
       "                </tr>\n",
       "                \n",
       "                \n",
       "                \n",
       "                \n",
       "                <tr>\n",
       "                    <th>Duration</th>\n",
       "                    <td>00:12:27 (HH:MM:SS)</td>\n",
       "                </tr>\n",
       "                \n",
       "            </table>\n",
       "            </details>"
      ],
      "text/plain": [
       "<RawArray | 4 x 1529828 (747.0 s), ~46.7 MB, data loaded>"
      ]
     },
     "execution_count": 10,
     "metadata": {},
     "output_type": "execute_result"
    }
   ],
   "source": [
    "raw_emg"
   ]
  },
  {
   "cell_type": "code",
   "execution_count": 11,
   "id": "f768fdc8-6105-4f59-b680-a738c58b3136",
   "metadata": {},
   "outputs": [
    {
     "name": "stdout",
     "output_type": "stream",
     "text": [
      "(3733,)\n",
      "(3733,)\n"
     ]
    }
   ],
   "source": [
    "import numpy as np\n",
    "prediction_timestamps = streams[0]['time_stamps']\n",
    "prediction_values = streams[0]['time_series']\n",
    "\n",
    "print(prediction_timestamps.shape)\n",
    "print(prediction_values[:, 0].shape)\n",
    "events = np.stack([(prediction_timestamps - streams[1]['time_stamps'][0])*2048, np.zeros(prediction_timestamps.shape), prediction_values[:, 0]]).T\n",
    "events = events.astype('int32')"
   ]
  },
  {
   "cell_type": "code",
   "execution_count": 12,
   "id": "dd2d08ec-71dc-4add-b8a2-b0122b201eb7",
   "metadata": {},
   "outputs": [],
   "source": [
    "emg_epochs = mne.Epochs(\n",
    "    raw_emg,\n",
    "    tmin=-0.2,\n",
    "    tmax=0.0,\n",
    "    events=events\n",
    ")\n"
   ]
  },
  {
   "cell_type": "code",
   "execution_count": 13,
   "id": "1e4c304f-338b-40bb-a170-2f542cd27d09",
   "metadata": {},
   "outputs": [],
   "source": [
    "X_emg = np.abs(emg_epochs.get_data()).mean(axis=2)"
   ]
  },
  {
   "cell_type": "code",
   "execution_count": 14,
   "id": "95afb0ab-3c75-47d6-b0c3-115c2a02d636",
   "metadata": {},
   "outputs": [],
   "source": [
    "y_emg = emg_epochs.events[:, -1]"
   ]
  },
  {
   "cell_type": "code",
   "execution_count": 15,
   "id": "2eee80e2-a51c-4e7f-ba6c-499f111be56f",
   "metadata": {},
   "outputs": [
    {
     "name": "stdout",
     "output_type": "stream",
     "text": [
      "0.8234663809268685\n"
     ]
    }
   ],
   "source": [
    "preds = emg_model.predict(X_emg)\n",
    "preds[preds==0] = -1\n",
    "preds[preds==2] = 0\n",
    "preds[preds==1] = 1.0\n",
    "\n",
    "\n",
    "agreement = np.mean(preds == y_emg)\n",
    "print(agreement)"
   ]
  },
  {
   "cell_type": "code",
   "execution_count": 16,
   "id": "1a884030-f0d9-4d0c-b600-3d4b0d2f51a0",
   "metadata": {},
   "outputs": [],
   "source": [
    "mapping = {\n",
    "    0: -1.0,  # Left\n",
    "    1: 1.0,  # Right\n",
    "    2: 0.0,  # Rest\n",
    "}\n"
   ]
  },
  {
   "cell_type": "code",
   "execution_count": 17,
   "id": "6a7167fb-3bf6-4275-af55-45b410825219",
   "metadata": {},
   "outputs": [
    {
     "data": {
      "text/html": [
       "<table class=\"table table-hover table-striped table-sm table-responsive small\">\n",
       "    <tr>\n",
       "        <th>Number of events</th>\n",
       "        <td>74679</td>\n",
       "    </tr>\n",
       "    <tr>\n",
       "        <th>Events</th>\n",
       "        \n",
       "        <td>1: 74679</td>\n",
       "        \n",
       "    </tr>\n",
       "    <tr>\n",
       "        <th>Time range</th>\n",
       "        <td>0.000 – 0.200 s</td>\n",
       "    </tr>\n",
       "    <tr>\n",
       "        <th>Baseline</th>\n",
       "        <td>off</td>\n",
       "    </tr>\n",
       "</table>"
      ],
      "text/plain": [
       "<Epochs |  74679 events (good & bad), 0 – 0.199707 s, baseline off, ~21 kB, data not loaded,\n",
       " '1': 74679>"
      ]
     },
     "execution_count": 17,
     "metadata": {},
     "output_type": "execute_result"
    }
   ],
   "source": [
    "\n",
    "interval = 0.01\n",
    "epoch_time = 0.2\n",
    "emg_fine_epochs = mne.make_fixed_length_epochs(\n",
    "    raw_emg,\n",
    "    duration=epoch_time,\n",
    "    overlap=epoch_time - interval,\n",
    "    reject_by_annotation=False,\n",
    ")\n",
    "emg_fine_epochs\n"
   ]
  },
  {
   "cell_type": "code",
   "execution_count": 18,
   "id": "8be32dcc-03b5-467f-94d6-d14cb7f44d49",
   "metadata": {},
   "outputs": [],
   "source": [
    "emg_fine_preds = emg_model.predict(np.abs(emg_fine_epochs.get_data()).mean(axis=2))\n",
    "emg_fine_preds[emg_fine_preds==0] = -1.0\n",
    "emg_fine_preds[emg_fine_preds==2] = 0.0\n",
    "emg_fine_preds[emg_fine_preds==1] = 1.0"
   ]
  },
  {
   "cell_type": "code",
   "execution_count": 19,
   "id": "75c40bf3-62ab-4663-95b7-4adf1f671904",
   "metadata": {},
   "outputs": [
    {
     "data": {
      "text/plain": [
       "(array([-1,  0,  1]), array([37347, 10749, 26583]))"
      ]
     },
     "execution_count": 19,
     "metadata": {},
     "output_type": "execute_result"
    }
   ],
   "source": [
    "np.unique(emg_fine_preds, return_counts=True)"
   ]
  },
  {
   "cell_type": "code",
   "execution_count": 20,
   "id": "21bf7c86-3323-4ede-ac0d-93299edf2f87",
   "metadata": {},
   "outputs": [],
   "source": [
    "timestamps = np.arange(0, len(raw_emg.times) - epoch_time*2048 , interval * 2048)\n",
    "timestamps = timestamps + (epoch_time - interval) * 2048"
   ]
  },
  {
   "cell_type": "code",
   "execution_count": 21,
   "id": "0328b887-5b36-47d2-bdd4-0247572855fc",
   "metadata": {},
   "outputs": [],
   "source": [
    "\n",
    "events = np.stack([timestamps, np.zeros(emg_fine_preds.shape), emg_fine_preds]).T.astype('int32')"
   ]
  },
  {
   "cell_type": "code",
   "execution_count": 25,
   "id": "ba33e91e-8ebe-4239-bc23-b5090e1ce5d6",
   "metadata": {},
   "outputs": [
    {
     "name": "stdout",
     "output_type": "stream",
     "text": [
      "17.12 seconds of 0\n",
      "7.25 seconds of 1\n",
      "4.19 seconds of 1\n",
      "8.39 seconds of 1\n",
      "6.46 seconds of -1\n",
      "9.19 seconds of 1\n",
      "10.290000000000001 seconds of -1\n",
      "4.0 seconds of 1\n",
      "5.32 seconds of -1\n",
      "8.66 seconds of -1\n",
      "7.84 seconds of 1\n",
      "3.96 seconds of 0\n",
      "6.96 seconds of 1\n",
      "10.31 seconds of -1\n",
      "3.85 seconds of -1\n",
      "8.950000000000001 seconds of -1\n",
      "9.99 seconds of 1\n",
      "6.79 seconds of -1\n",
      "7.74 seconds of -1\n",
      "10.42 seconds of 1\n",
      "11.59 seconds of -1\n",
      "5.15 seconds of 1\n",
      "7.4 seconds of -1\n",
      "6.98 seconds of -1\n",
      "9.32 seconds of 1\n",
      "9.620000000000001 seconds of 1\n",
      "13.17 seconds of -1\n",
      "4.43 seconds of -1\n",
      "8.23 seconds of -1\n",
      "10.01 seconds of 1\n",
      "8.2 seconds of -1\n",
      "9.43 seconds of -1\n",
      "9.85 seconds of 1\n",
      "10.91 seconds of -1\n",
      "5.91 seconds of 1\n",
      "4.37 seconds of -1\n",
      "10.43 seconds of -1\n",
      "9.15 seconds of 1\n",
      "7.84 seconds of 1\n",
      "12.55 seconds of -1\n",
      "4.95 seconds of -1\n",
      "3.81 seconds of 1\n",
      "8.05 seconds of -1\n",
      "9.620000000000001 seconds of 1\n",
      "8.34 seconds of -1\n",
      "8.36 seconds of -1\n",
      "9.6 seconds of 1\n",
      "10.870000000000001 seconds of -1\n",
      "3.97 seconds of 1\n",
      "15.67 seconds of -1\n",
      "9.58 seconds of 1\n",
      "8.74 seconds of 1\n",
      "13.32 seconds of -1\n",
      "6.11 seconds of -1\n",
      "8.1 seconds of -1\n",
      "8.96 seconds of 1\n",
      "8.26 seconds of -1\n",
      "8.41 seconds of -1\n",
      "5.89 seconds of 1\n",
      "8.3 seconds of -1\n",
      "13.21 seconds of -1\n",
      "8.68 seconds of 1\n",
      "4.39 seconds of 1\n"
     ]
    }
   ],
   "source": [
    "import itertools\n",
    "bits = emg_fine_preds\n",
    "index = 0\n",
    "starting_points = []\n",
    "for bit, group in itertools.groupby(bits):\n",
    "    length = len(list(group))\n",
    "    if length * interval >= 3.75:\n",
    "        starting_points.append(events[index, :])\n",
    "        print(f\"{length  * interval} seconds of {events[index, 2]}\")\n",
    "    index += length\n",
    "\n",
    "# So at the start \n",
    "starting_points = np.array(starting_points).astype('int32')\n",
    "starting_points[:, 0] = starting_points[:, 0] "
   ]
  },
  {
   "cell_type": "code",
   "execution_count": 26,
   "id": "3fc18936-842d-496e-9aa1-96c8798f8cbd",
   "metadata": {},
   "outputs": [
    {
     "data": {
      "text/html": [
       "<table class=\"table table-hover table-striped table-sm table-responsive small\">\n",
       "    <tr>\n",
       "        <th>Number of events</th>\n",
       "        <td>63</td>\n",
       "    </tr>\n",
       "    <tr>\n",
       "        <th>Events</th>\n",
       "        \n",
       "        <td>left: 34<br/>rest: 2<br/>right: 27</td>\n",
       "        \n",
       "    </tr>\n",
       "    <tr>\n",
       "        <th>Time range</th>\n",
       "        <td>-2.000 – 4.750 s</td>\n",
       "    </tr>\n",
       "    <tr>\n",
       "        <th>Baseline</th>\n",
       "        <td>-2.000 – 0.000 s</td>\n",
       "    </tr>\n",
       "</table>"
      ],
      "text/plain": [
       "<Epochs |  63 events (good & bad), -2 – 4.75 s, baseline -2 – 0 s, ~48 kB, data not loaded,\n",
       " 'left': 34\n",
       " 'rest': 2\n",
       " 'right': 27>"
      ]
     },
     "execution_count": 26,
     "metadata": {},
     "output_type": "execute_result"
    }
   ],
   "source": [
    "epochs = mne.Epochs(\n",
    "    raw,\n",
    "    events=starting_points,\n",
    "    event_id=dict(left=-1, rest=0, right=1),\n",
    "    tmin=-2,\n",
    "    tmax=4.75,\n",
    ")\n",
    "\n",
    "epochs"
   ]
  },
  {
   "cell_type": "code",
   "execution_count": 27,
   "id": "00237797-284f-4e46-a472-76116ea875f5",
   "metadata": {},
   "outputs": [],
   "source": [
    "# MRCP is typically between 5 and 30 μV and therefore easily masked by other brain activities"
   ]
  },
  {
   "cell_type": "code",
   "execution_count": 53,
   "id": "bf3cd2f7-27eb-4af6-9d4f-9224e3b7fab8",
   "metadata": {},
   "outputs": [],
   "source": [
    "evokeds = epochs.average(by_event_type=True)"
   ]
  },
  {
   "cell_type": "code",
   "execution_count": 54,
   "id": "5cf16ffe-4e0f-465d-b650-5e09a5f72e82",
   "metadata": {},
   "outputs": [],
   "source": [
    "for evoked in evokeds:\n",
    "    evoked.plot(picks=['C3', 'Cz', 'C4'])\n",
    "    plt.title(f\"{evoked.comment}\")"
   ]
  },
  {
   "cell_type": "code",
   "execution_count": 52,
   "id": "8ed30e0d-8492-491b-8721-519430d45c81",
   "metadata": {},
   "outputs": [],
   "source": [
    "evokeds = dict(\n",
    "    left=list(epochs[\"left\"].iter_evoked()),\n",
    "    right=list(epochs[\"right\"].iter_evoked()),\n",
    "    # rest=list(epochs[\"rest\"].iter_evoked()),\n",
    ")\n",
    "mne.viz.plot_compare_evokeds(evokeds, axes='topo', picks=['C3', 'Cz', 'C4'])\n",
    "plt.show()"
   ]
  },
  {
   "cell_type": "code",
   "execution_count": null,
   "id": "16063743-0276-47ba-85b2-b30ca84f1dbd",
   "metadata": {},
   "outputs": [],
   "source": []
  }
 ],
 "metadata": {
  "kernelspec": {
   "display_name": "Python 3 (ipykernel)",
   "language": "python",
   "name": "python3"
  },
  "language_info": {
   "codemirror_mode": {
    "name": "ipython",
    "version": 3
   },
   "file_extension": ".py",
   "mimetype": "text/x-python",
   "name": "python",
   "nbconvert_exporter": "python",
   "pygments_lexer": "ipython3",
   "version": "3.11.4"
  }
 },
 "nbformat": 4,
 "nbformat_minor": 5
}
